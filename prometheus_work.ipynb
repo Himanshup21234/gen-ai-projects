{
 "cells": [
  {
   "cell_type": "markdown",
   "metadata": {
    "id": "JAPoU8Sm5E6e"
   },
   "source": [
    "# Text Summarization of User Reviews with Generative Models on Vertex AI\n",
    "\n",
    "__Notebook Holder__ : Himanshu Pant and Ishan Bhatt"
   ]
  },
  {
   "cell_type": "markdown",
   "metadata": {
    "id": "tvgnzT1CKxrO"
   },
   "source": [
    "## Overview\n",
    "Text summarization produces a concise and fluent summary of a longer text document. There are two main text summarization types: extractive and abstractive. Extractive summarization involves selecting critical sentences from the original text and combining them to form a summary. Abstractive summarization involves generating new sentences representing the original text's main points. In this notebook, you go through a few examples of how large language models can help with generating summaries based on text.\n",
    "\n",
    "Learn more about text summarization in the [official documentation](https://cloud.google.com/vertex-ai/docs/generative-ai/text/summarization-prompts)."
   ]
  },
  {
   "cell_type": "markdown",
   "metadata": {
    "id": "d975e698c9a4"
   },
   "source": [
    "### Objective\n",
    "To summarise user reviews and give prometheus bot suggestions to buy a product or not."
   ]
  },
  {
   "cell_type": "markdown",
   "metadata": {
    "id": "bs9TZo0GJKCR"
   },
   "source": [
    "## Getting Started"
   ]
  },
  {
   "cell_type": "markdown",
   "metadata": {
    "id": "960505627ddf"
   },
   "source": [
    "### Import libraries\n",
    "\n",
    "Let's start by importing the libraries that we will need for this tutorial"
   ]
  },
  {
   "cell_type": "markdown",
   "metadata": {},
   "source": [
    "Uncomment the following cell when not on Vertex AI Workbench."
   ]
  },
  {
   "cell_type": "code",
   "execution_count": 1,
   "metadata": {
    "id": "PyQmSRbKA8r-"
   },
   "outputs": [],
   "source": [
    "from IPython.display import Markdown\n",
    "import vertexai\n",
    "from vertexai.language_models import TextGenerationModel\n",
    "vertexai.init(project=\"wmt-7fbls2a91f025anb93e025b02g\", location=\"us-central1\")"
   ]
  },
  {
   "cell_type": "markdown",
   "metadata": {
    "id": "UP76a2la7O-a"
   },
   "source": [
    "### Import models\n",
    "\n",
    "Here we load the pre-trained text generation model called `text-bison@001`."
   ]
  },
  {
   "cell_type": "code",
   "execution_count": 2,
   "metadata": {
    "id": "7isig7e07O-a"
   },
   "outputs": [],
   "source": [
    "generation_model = TextGenerationModel.from_pretrained(\"text-bison@001\")"
   ]
  },
  {
   "cell_type": "markdown",
   "metadata": {
    "id": "Mu1UAhoTKn51"
   },
   "source": [
    "## Text Summarization with zero shot method"
   ]
  },
  {
   "cell_type": "code",
   "execution_count": 6,
   "metadata": {},
   "outputs": [
    {
     "name": "stdout",
     "output_type": "stream",
     "text": [
      "Response from Model: {\n",
      "  \"class\": \"Positive\",\n",
      "  \"summary\": \"The Apple AirPods with Charging Case (2nd Generation) are a great product. They are well-made, sound great, and are very comfortable to wear. The only downside is that they are a bit expensive.\",\n",
      "  \"rate\": 80,\n",
      "  \"product_name\": \"Apple AirPods with Charging Case (2nd Generation)\"\n",
      "}\n"
     ]
    },
    {
     "data": {
      "text/markdown": [
       "{\n",
       "  \"class\": \"Positive\",\n",
       "  \"summary\": \"The Apple AirPods with Charging Case (2nd Generation) are a great product. They are well-made, sound great, and are very comfortable to wear. The only downside is that they are a bit expensive.\",\n",
       "  \"rate\": 80,\n",
       "  \"product_name\": \"Apple AirPods with Charging Case (2nd Generation)\"\n",
       "}"
      ],
      "text/plain": [
       "<IPython.core.display.Markdown object>"
      ]
     },
     "execution_count": 6,
     "metadata": {},
     "output_type": "execute_result"
    }
   ],
   "source": [
    "parameters = {\n",
    "    \"max_output_tokens\": 1024,\n",
    "    \"temperature\": 0.2,\n",
    "    \"top_p\": 0.95,\n",
    "    \"top_k\": 40\n",
    "}\n",
    "response = generation_model.predict(\n",
    "    \"\"\"You are a Review Summarisation Tool, which provides concise summary of users reviews of products purchased from Walmart.com.\n",
    "Provide a concise summary with maximum of 100 words, of all the reviews using product_name, product_description and reviews. Focus on extracting key sentiments, prevalent themes and overall satisfaction levels conveyed in the reviews. Provide both positive and negative feedback where applicable, capturing the general consensus of customer's experience.\n",
    "Also, classify the concise summary from the following 3 categories:\n",
    "1. Positive\n",
    "2. Negative\n",
    "3. Neutral\n",
    "\n",
    "Also, rate the product based on the user review in a range from 1 to 100. Give higher rating to product with more positive review.\n",
    "\n",
    "\n",
    "Product: \\\"Apple AirPods with Charging Case (2nd Generation)\\\"\n",
    "Product Description: \\\"The new AirPods combine intelligent design with breakthrough technology and crystal clear sound. Powered by the new Apple H1 headphone chip, AirPods now feature hands-free access to Siri using just your voice. And up to 3 hours of talk time on a single charge.\\\"\n",
    "\n",
    "The concise summary output should:\n",
    "1. Exclude offensive words from the output.\n",
    "2. Include details about the quality, shipping, customer service and overall satisfaction.\n",
    "\n",
    "Reviews:\n",
    "review1: \\\"They came charged and clean. There wasn\\'t any dents/scratches or any indications that they were previously owned which means they\\'re probably new. They were tightly packaged but did come a day late… I think due to weather though. Overall I love them.\\\"\n",
    "review2: \\\"I love it exactly what I was looking for if you are looking for that AirPods yes that is it.\\\"\n",
    "review3: \\\"Excellent, pretty useful... easy to use and reliable. At first I had some doubts about it being reliable to my Mac as some Bluetooth speakers sometimes cut off, but these work great and are really comfortable to my ears. Aesthetically, they look great to me.\\\"\n",
    "review4: \\\"The delivery method was terrible! I ordered as a Christmas gift for my child and this is how it showed up at my house. NO packaging, no bag, nothing to hide/camouflage from porch thieves! Needless to say, my child seen them on the porch so she will be one less Christmas surprise. Very disappointed.\\\"\n",
    "review5: \\\"The package came brand new. The quality is really good, just like the real Apple AirPods and they were clean. It came with a charger so you don\\'t have to go out and get a new one. I ordered these for myself for Christmas and I\\'m so happy I purchased these. I am truly satisfied.\\\"\n",
    "review6: \\\"Is this some type of sick joke ? I got it in the mail today. The box had some rips and was already half way open. So I was already skeptical but I ignore it then. I look inside to the see the airpods in the plastic and Sure it was wrapped up all nice and looked official but when I opened the box it was absolutely disgusting inside. It looked like these had been someone\\'s old used airpods they were dirty inside and out not to mention didn\\'t even want to connect to my phone , i am extremely disappointed in this\\\"\n",
    "\n",
    "Respond the output only in indented consistent json format with the identified class under the \\\"class\\\" key, summary under \\\"summary\\\" key, rate under \"rate\", input product_name under \\\"product_name\\\" key.\"\"\",\n",
    "    **parameters\n",
    ")\n",
    "generated_summary = response.text\n",
    "print(f\"Response from Model: {generated_summary}\")\n",
    "Markdown(generated_summary)"
   ]
  },
  {
   "cell_type": "code",
   "execution_count": null,
   "metadata": {},
   "outputs": [
    {
     "name": "stdout",
     "output_type": "stream",
     "text": [
      "Response from Model: {\n",
      " \"summary\": \"The Apple AirPods with Charging Case (2nd Generation) are a great product. They are comfortable to wear, have good sound quality, and are easy to use. Some users have reported that the AirPods can fall out of their ears, but this is not a common problem. Overall, the AirPods are a great choice for anyone looking for a wireless earbud.\"\n",
      "}\n"
     ]
    },
    {
     "data": {
      "text/markdown": [
       "{\n",
       " \"summary\": \"The Apple AirPods with Charging Case (2nd Generation) are a great product. They are comfortable to wear, have good sound quality, and are easy to use. Some users have reported that the AirPods can fall out of their ears, but this is not a common problem. Overall, the AirPods are a great choice for anyone looking for a wireless earbud.\"\n",
       "}"
      ],
      "text/plain": [
       "<IPython.core.display.Markdown object>"
      ]
     },
     "execution_count": 5,
     "metadata": {},
     "output_type": "execute_result"
    }
   ],
   "source": [
    "parameters = {\n",
    "    \"max_output_tokens\": 256,\n",
    "    \"temperature\": 0.2,\n",
    "    \"top_p\": 0.95,\n",
    "    \"top_k\": 40\n",
    "}\n",
    "response = generation_model.predict(\n",
    "    \"\"\"Analyze the user reviews for products from walmart.com based on the reviews that can be parsed from: https://www.walmart.com/ip/Apple-AirPods-with-Charging-Case-2nd-Generation/604342441?athbdg=L1102&from=/search. \n",
    "    Provide the summary with maximum 100 words that includes positive and negative aspects of the product and overall satisfaction and recommendation.\n",
    "Respond only in consistent json format with summary under \\\"summary\\\" key.\"\"\",\n",
    "    **parameters\n",
    ")\n",
    "generate_from_web1 = response.text\n",
    "print(f\"Response from Model: {response.text}\")\n",
    "Markdown(generate_from_web1)"
   ]
  },
  {
   "cell_type": "markdown",
   "metadata": {},
   "source": [
    "## Type 2"
   ]
  },
  {
   "cell_type": "code",
   "execution_count": null,
   "metadata": {},
   "outputs": [
    {
     "name": "stdout",
     "output_type": "stream",
     "text": [
      "Response from Model: {\n",
      "  \"summary\": \"The Apple AirPods with Charging Case (2nd Generation) have received overwhelmingly positive reviews from customers on Walmart.com. Customers love the AirPods' ease of use, sound quality, and battery life. Some negative reviews have been noted regarding the AirPods' fit and comfort, but overall, customers are very satisfied with their purchase.\"\n",
      "}\n"
     ]
    },
    {
     "data": {
      "text/markdown": [
       "{\n",
       "  \"summary\": \"The Apple AirPods with Charging Case (2nd Generation) have received overwhelmingly positive reviews from customers on Walmart.com. Customers love the AirPods' ease of use, sound quality, and battery life. Some negative reviews have been noted regarding the AirPods' fit and comfort, but overall, customers are very satisfied with their purchase.\"\n",
       "}"
      ],
      "text/plain": [
       "<IPython.core.display.Markdown object>"
      ]
     },
     "execution_count": 6,
     "metadata": {},
     "output_type": "execute_result"
    }
   ],
   "source": [
    "parameters = {\n",
    "    \"max_output_tokens\": 256,\n",
    "    \"temperature\": 0.2,\n",
    "    \"top_p\": 0.95,\n",
    "    \"top_k\": 40\n",
    "}\n",
    "response = generation_model.predict(\n",
    "    \"\"\"Craft a coherent summary of user reviews for Walmart.com that can be parsed from: https://www.walmart.com/ip/Apple-AirPods-with-Charging-Case-2nd-Generation/604342441?athbdg=L1102&from=/search\n",
    "    Focus on extracting key sentiments, prevalent themes and overall satisfaction levels conveyed in the reviews. Provide both positive and negative feedback where applicable, capturing the general consensus of customer's experience.\n",
    "    Respond only in consistent json format with summary under \\\"summary\\\" key.\"\"\",\n",
    "    **parameters\n",
    ")\n",
    "generate_from_web2 = response.text\n",
    "print(f\"Response from Model: {response.text}\")\n",
    "Markdown(generate_from_web2)"
   ]
  },
  {
   "cell_type": "code",
   "execution_count": null,
   "metadata": {},
   "outputs": [
    {
     "name": "stdout",
     "output_type": "stream",
     "text": [
      "Response from Model: {\n",
      "  \"summary\": \"The Free Assembly Women's Patch Pocket Cardigan Sweater is a midweight cardigan sweater that is available in sizes XS-XXL. The reviews are generally positive, with customers saying that the sweater is comfortable, stylish, and affordable. Some customers did note that the sweater is a bit thin, but overall, they are happy with their purchase.\"\n",
      "}\n"
     ]
    },
    {
     "data": {
      "text/markdown": [
       "{\n",
       "  \"summary\": \"The Free Assembly Women's Patch Pocket Cardigan Sweater is a midweight cardigan sweater that is available in sizes XS-XXL. The reviews are generally positive, with customers saying that the sweater is comfortable, stylish, and affordable. Some customers did note that the sweater is a bit thin, but overall, they are happy with their purchase.\"\n",
       "}"
      ],
      "text/plain": [
       "<IPython.core.display.Markdown object>"
      ]
     },
     "execution_count": 7,
     "metadata": {},
     "output_type": "execute_result"
    }
   ],
   "source": [
    "parameters = {\n",
    "    \"max_output_tokens\": 1024,\n",
    "    \"temperature\": 0.2,\n",
    "    \"top_p\": 0.95,\n",
    "    \"top_k\": 40\n",
    "}\n",
    "response = generation_model.predict(\n",
    "    \"\"\"Craft a coherent summary in maximum of 100 words of user reviews for Walmart.com that can be parsed from: https://www.walmart.com/ip/Free-Assembly-Women-s-Patch-Pocket-Cardigan-Sweater-Midweight-Sizes-XS-XXL/2921447485?athbdg=L1600\n",
    "    Focus on extracting key sentiments, prevalent themes and overall satisfaction levels conveyed in the reviews. Provide both positive and negative feedback where applicable, capturing the general consensus of customer's experience.\n",
    "    Respond only in consistent json format with summary under \\\"summary\\\" key.\"\"\",\n",
    "    **parameters\n",
    ")\n",
    "generate_from_web3 = response.text\n",
    "print(f\"Response from Model: {response.text}\")\n",
    "Markdown(generate_from_web3)"
   ]
  },
  {
   "cell_type": "markdown",
   "metadata": {},
   "source": [
    "## Few Shots"
   ]
  },
  {
   "cell_type": "code",
   "execution_count": 8,
   "metadata": {},
   "outputs": [
    {
     "ename": "SyntaxError",
     "evalue": "'(' was never closed (4089722072.py, line 7)",
     "output_type": "error",
     "traceback": [
      "\u001b[0;36m  Cell \u001b[0;32mIn[8], line 7\u001b[0;36m\u001b[0m\n\u001b[0;31m    response = generation_model.predict(\u001b[0m\n\u001b[0m                                       ^\u001b[0m\n\u001b[0;31mSyntaxError\u001b[0m\u001b[0;31m:\u001b[0m '(' was never closed\n"
     ]
    }
   ],
   "source": [
    "parameters = {\n",
    "    \"max_output_tokens\": 1024,\n",
    "    \"temperature\": 0.2,\n",
    "    \"top_p\": 0.95,\n",
    "    \"top_k\": 40\n",
    "}\n",
    "response = generation_model.predict(\n",
    "    \"\"\"You are an Review Summarisation Tool, which provides concise summary of users reviews of products purchased from Walmart.com.\n",
    "Provide a concise summary with maximum of 100 words, of all the reviews using product_name, product_description and reviews. Focus on extracting key sentiments, prevalent themes and overall satisfaction levels conveyed in the reviews. Provide both positive and negative feedback where applicable, capturing the general consensus of customer\\'s experience.\n",
    "\n",
    "The concise summary output should:\n",
    "1. Exclude offensive words from the output.\n",
    "2. Include details about the quality, shipping, customer service and overall satisfaction.\n",
    "\n",
    "Also, classify the concise summary from the following 3 categories:\n",
    "1. Positive\n",
    "2. Negative\n",
    "3. Neutral\n",
    "\n",
    "Also, rate the product based on the user review in a range from 1 to 100. Give higher rating to product with more positive review.\n",
    "\n",
    "Respond the output only in indented consistent json format with the identified class under the \\\"class\\\" key, summary under \\\"summary\\\" key, rate under \"rate\", input product_name under \\\"product_name\\\" key.\n",
    "\n",
    "input: Product: \\\"Apple AirPods with Charging Case (2nd Generation)\\\"\n",
    "Product Description: \\\"The new AirPods combine intelligent design with breakthrough technology and crystal clear sound. Powered by the new Apple H1 headphone chip, AirPods now feature hands-free access to Siri using just your voice. And up to 3 hours of talk time on a single charge.\\\"\n",
    "Reviews:\n",
    "review1: \\\"They came charged and clean. There wasn\\'t any dents/scratches or any indications that they were previously owned which means they\\'re probably new. They were tightly packaged but did come a day late… I think due to weather though. Overall I love them.\\\"\n",
    "review2: \\\"I love it exactly what I was looking for if you are looking for that AirPods yes that is it.\\\"\n",
    "review3: \\\"Excellent, pretty useful... easy to use and reliable. At first I had some doubts about it being reliable to my Mac as some Bluetooth speakers sometimes cut off, but these work great and are really comfortable to my ears. Aesthetically, they look great to me.\\\"\n",
    "review4: \\\"The delivery method was terrible! I ordered as a Christmas gift for my child and this is how it showed up at my house. NO packaging, no bag, nothing to hide/camouflage from porch thieves! Needless to say, my child seen them on the porch so she will be one less Christmas surprise. Very disappointed.\\\"\n",
    "review5: \\\"The package came brand new. The quality is really good, just like the real Apple AirPods and they were clean. It came with a charger so you don\\'t have to go out and get a new one. I ordered these for myself for Christmas and I\\'m so happy I purchased these. I am truly satisfied.\\\"\n",
    "review6: \\\"Is this some type of sick joke ? I got it in the mail today. The box had some rips and was already half way open. So I was already skeptical but I ignore it then. I look inside to the see the airpods in the plastic and Sure it was wrapped up all nice and looked official but when I opened the box it was absolutely disgusting inside. It looked like these had been someone\\'s old used airpods they were dirty inside and out not to mention didn\\'t even want to connect to my phone , i am extremely disappointed in this\\\"\n",
    "\n",
    "\n",
    "output: {\n",
    "  \\\"product_name\\\": \\\"Apple AirPods with Charging Case (2nd Generation)\\\",\n",
    "  \\\"summary\\\": \\\"Customers appreciate the Apple AirPods\\' quality, ease of use, and comfortable design. They are generally satisfied with the product and find it reliable. However, some negative experiences with delivery and packaging have led to disappointment, with instances of damaged or improperly packaged items. Overall, I would recommend these AirPods as a great choice for anyone looking for a wireless earbuds\\\",\n",
    "  \\\"class\\\": \\\"Neutral\\\"\n",
    "}\n",
    "\n",
    "input: Product: \\\"Apple Lightning to USB Cable (1m) - White\\\"\n",
    "Product Description: \\\"This USB 2.0 cable connects your iPhone, iPad, or iPod with Lightning connector to your computer’s USB port for syncing and charging. Or you can connect to the Apple USB Power Adapter for convenient charging from a wall outlet. This lightning to USB 2.0 Cable lets you charge and sync your iPhone, iPad, or iPod to your Mac or Windows PC. Lightning is an 8-pin connector that carries a digital signal. Unlike the Apple 30 pin connector it replaces (and USB Type A or B connectors), the Lightning connector can be inserted either face up or face down. Each pin on the reverse side of the connector is connected to its directly opposite twin on the other side.\\\"\n",
    "Reviews:\n",
    "review1: \\\"This is the only cord I can use to charge my phone, none of the off brands work. I love this cord and now it comes in 3 lengths which is great. They last forever too.\\\"\n",
    "review2: \\\"Charger came in the authentic Apple box and works perfectly! Something is definitely still wrong with my phone, but it at least is not burning through this charger like all of the other fake “Lightning” cables that come out of my phone all corroded after just a couple of charges!\\\"\n",
    "review3: \\\"Works fine, just needed a replacement.\\\"\n",
    "review4: \\\"Real Apple charger even though it didn’t come in an Apple box but it had the “Distributed by Apple...” on the cable itself even though it is hard to read. So far it’s charging well and faster than the knock offs brands.\\\"\n",
    "\n",
    "output: {\n",
    "  \\\"product_name\\\": \\\"Apple Lightning to USB Cable (1m) - White\\\",\n",
    "  \\\"summary\\\": \\\"Customers are generally satisfied with the Apple Lightning to USB Cable. They appreciate the quality of the cable and find that it charges their devices quickly and efficiently. Some customers have reported that the cable does not come in an Apple box, but this does not appear to affect the functionality of the cable. Overall, I would recommend this cable to anyone looking for a high-quality Lightning to USB cable.\\\",\n",
    "  \\\"class\\\": \\\"Positive\\\"\n",
    "}\n",
    "\n",
    "input: Product: \\\"Free Assembly Women\\'s Patch Pocket Cardigan Sweater, Midweight, Sizes XS-XXL\\\"\n",
    "Product Description: \\\"The new AirPods combine intelligent design with breakthrough technology and crystal clear sound. Powered by the new Apple H1 headphone chip, AirPods now feature hands-free access to Siri using just your voice. And up to 3 hours of talk time on a single charge.\\\"\n",
    "\n",
    "Reviews:\n",
    "review1: \\\"Looser fit, great quality. Very happy with this purchase.\\\"\n",
    "review2: \\\"Very nice cardigan that looks more expensive than it is. The cardigan is boxy and cropped, so you will want to consider that when purchasing. I got a medium, and it goes just below my waist, and I\\'m short at 4\\'10”. The material is soft, almost slightly fuzzy, but I can see this pilling quickly. The buttons are nice but not easy to unbutton (I undid the top two and then slipped this over my head). This would be cute with flared jeans or dress pants for work. All in all, a cute sweater that I pray lasts more than one season.\\\"\n",
    "review3: \\\"Chic look for a great price. Super lightweight, mostly cotton, and is a little on the boxy side so it runs big. I\\'m usually an XL but the L fits well. I would have preferred if it was more tailored but it\\'s cute nonetheless. The gold buttons are a great addition but are hard to open/close - not a big deal to me but it\\'s worth noting. Overall it\\'s a winner.\\\"\n",
    "review4: \\\"Boxy fit. Size down. This will be good for colder weather as it is heavy. It is not a light sweater jacket. It is a sweater and constructed as one.\\\"\n",
    "review5: \\\"I really like the sweater, it is so soft and it\\'s not extremely thick, The only problem is it was very hard to unbutton. The buttons are really big and it was hard to get them through the button hole., other then that I really like the sweater.\\\"\n",
    "\n",
    "output:\n",
    "\"\"\",\n",
    "    **parameters\n",
    ")\n",
    "print(f\"Response from Model: {response.text}\")"
   ]
  },
  {
   "cell_type": "code",
   "execution_count": null,
   "metadata": {},
   "outputs": [
    {
     "name": "stdout",
     "output_type": "stream",
     "text": [
      "Response from Model: {\n",
      "  \"product_name\": \"Restored Premium Vitamix 5300 Blender for Soups, Smoothies, Sauces, and Spreads 64 fl oz. (Refurbished)\",\n",
      "  \"summary\": \"Customers are generally satisfied with the Restored Premium Vitamix 5300 Blender. They appreciate the power and convenience of the blender, and find that it makes quick and easy work of making soups, smoothies, sauces, and spreads. Some customers have reported that the blender is loud, but overall they are happy with their purchase.\",\n",
      "  \"class\": \"Positive\"\n",
      "}\n"
     ]
    }
   ],
   "source": [
    "parameters = {\n",
    "    \"max_output_tokens\": 1024,\n",
    "    \"temperature\": 0.2,\n",
    "    \"top_p\": 0.95,\n",
    "    \"top_k\": 40\n",
    "}\n",
    "response = generation_model.predict(\n",
    "    \"\"\"You are an Review Summarisation Tool, which provides concise summary of users reviews of products purchased from Walmart.com.\n",
    "Provide a concise summary with maximum of 100 words, of all the reviews using product_name, product_description and reviews. Focus on extracting key sentiments, prevalent themes and overall satisfaction levels conveyed in the reviews. Provide both positive and negative feedback where applicable, capturing the general consensus of customer\\'s experience.\n",
    "\n",
    "*If there are no reviews or ratings, provide a neutral statement saying that there are no available reviews for the product.\n",
    "The concise summary output should:\n",
    "1. Exclude offensive words from the output.\n",
    "2. Include details about the quality, shipping, customer service and overall satisfaction.\n",
    "\n",
    "Also, classify the concise summary from the following 3 categories:\n",
    "1. Positive\n",
    "2. Negative\n",
    "3. Neutral\n",
    "\n",
    "Respond the output only in indented consistent json format with the identified class under the \\\\\\\"class\\\\\\\" key, summary under \\\\\\\"summary\\\\\\\" key,  input product_name under \\\\\\\"product_name\\\\\\\" key.\\\"\\\"\\\",\n",
    "\n",
    "input: Product: \\\"Apple AirPods with Charging Case (2nd Generation)\\\"\n",
    "Product Description: \\\"The new AirPods combine intelligent design with breakthrough technology and crystal clear sound. Powered by the new Apple H1 headphone chip, AirPods now feature hands-free access to Siri using just your voice. And up to 3 hours of talk time on a single charge.\\\"\n",
    "Reviews:\n",
    "review1: \\\"They came charged and clean. There wasn\\'t any dents/scratches or any indications that they were previously owned which means they\\'re probably new. They were tightly packaged but did come a day late… I think due to weather though. Overall I love them.\\\"\n",
    "review2: \\\"I love it exactly what I was looking for if you are looking for that AirPods yes that is it.\\\"\n",
    "review3: \\\"Excellent, pretty useful... easy to use and reliable. At first I had some doubts about it being reliable to my Mac as some Bluetooth speakers sometimes cut off, but these work great and are really comfortable to my ears. Aesthetically, they look great to me.\\\"\n",
    "review4: \\\"The delivery method was terrible! I ordered as a Christmas gift for my child and this is how it showed up at my house. NO packaging, no bag, nothing to hide/camouflage from porch thieves! Needless to say, my child seen them on the porch so she will be one less Christmas surprise. Very disappointed.\\\"\n",
    "review5: \\\"The package came brand new. The quality is really good, just like the real Apple AirPods and they were clean. It came with a charger so you don\\'t have to go out and get a new one. I ordered these for myself for Christmas and I\\'m so happy I purchased these. I am truly satisfied.\\\"\n",
    "review6: \\\"Is this some type of sick joke ? I got it in the mail today. The box had some rips and was already half way open. So I was already skeptical but I ignore it then. I look inside to the see the airpods in the plastic and Sure it was wrapped up all nice and looked official but when I opened the box it was absolutely disgusting inside. It looked like these had been someone\\'s old used airpods they were dirty inside and out not to mention didn\\'t even want to connect to my phone , i am extremely disappointed in this\\\"\n",
    "\n",
    "\n",
    "output: {\n",
    "  \\\"product_name\\\": \\\"Apple AirPods with Charging Case (2nd Generation)\\\",\n",
    "  \\\"summary\\\": \\\"Customers appreciate the Apple AirPods\\' quality, ease of use, and comfortable design. They are generally satisfied with the product and find it reliable. However, some negative experiences with delivery and packaging have led to disappointment, with instances of damaged or improperly packaged items. Overall, I would recommend these AirPods as a great choice for anyone looking for a wireless earbuds\\\",\n",
    "  \\\"class\\\": \\\"Neutral\\\"\n",
    "}\n",
    "\n",
    "input: Product: \\\"Apple Lightning to USB Cable (1m) - White\\\"\n",
    "Product Description: \\\"This USB 2.0 cable connects your iPhone, iPad, or iPod with Lightning connector to your computer’s USB port for syncing and charging. Or you can connect to the Apple USB Power Adapter for convenient charging from a wall outlet. This lightning to USB 2.0 Cable lets you charge and sync your iPhone, iPad, or iPod to your Mac or Windows PC. Lightning is an 8-pin connector that carries a digital signal. Unlike the Apple 30 pin connector it replaces (and USB Type A or B connectors), the Lightning connector can be inserted either face up or face down. Each pin on the reverse side of the connector is connected to its directly opposite twin on the other side.\\\"\n",
    "Reviews:\n",
    "review1: \\\"This is the only cord I can use to charge my phone, none of the off brands work. I love this cord and now it comes in 3 lengths which is great. They last forever too.\\\"\n",
    "review2: \\\"Charger came in the authentic Apple box and works perfectly! Something is definitely still wrong with my phone, but it at least is not burning through this charger like all of the other fake “Lightning” cables that come out of my phone all corroded after just a couple of charges!\\\"\n",
    "review3: \\\"Works fine, just needed a replacement.\\\"\n",
    "review4: \\\"Real Apple charger even though it didn’t come in an Apple box but it had the “Distributed by Apple...” on the cable itself even though it is hard to read. So far it’s charging well and faster than the knock offs brands.\\\"\n",
    "\n",
    "output: {\n",
    "  \\\"product_name\\\": \\\"Apple Lightning to USB Cable (1m) - White\\\",\n",
    "  \\\"summary\\\": \\\"Customers are generally satisfied with the Apple Lightning to USB Cable. They appreciate the quality of the cable and find that it charges their devices quickly and efficiently. Some customers have reported that the cable does not come in an Apple box, but this does not appear to affect the functionality of the cable. Overall, I would recommend this cable to anyone looking for a high-quality Lightning to USB cable.\\\",\n",
    "  \\\"class\\\": \\\"Positive\\\"\n",
    "}\n",
    "\n",
    "input: Product: \\\"Free Assembly Women\\'s Patch Pocket Cardigan Sweater, Midweight, Sizes XS-XXL\\\"\n",
    "Product Description: \\\"The new AirPods combine intelligent design with breakthrough technology and crystal clear sound. Powered by the new Apple H1 headphone chip, AirPods now feature hands-free access to Siri using just your voice. And up to 3 hours of talk time on a single charge.\\\"\n",
    "\n",
    "Reviews:\n",
    "review1: \\\"Looser fit, great quality. Very happy with this purchase.\\\"\n",
    "review2: \\\"Very nice cardigan that looks more expensive than it is. The cardigan is boxy and cropped, so you will want to consider that when purchasing. I got a medium, and it goes just below my waist, and I\\'m short at 4\\'10”. The material is soft, almost slightly fuzzy, but I can see this pilling quickly. The buttons are nice but not easy to unbutton (I undid the top two and then slipped this over my head). This would be cute with flared jeans or dress pants for work. All in all, a cute sweater that I pray lasts more than one season.\\\"\n",
    "review3: \\\"Chic look for a great price. Super lightweight, mostly cotton, and is a little on the boxy side so it runs big. I\\'m usually an XL but the L fits well. I would have preferred if it was more tailored but it\\'s cute nonetheless. The gold buttons are a great addition but are hard to open/close - not a big deal to me but it\\'s worth noting. Overall it\\'s a winner.\\\"\n",
    "review4: \\\"Boxy fit. Size down. This will be good for colder weather as it is heavy. It is not a light sweater jacket. It is a sweater and constructed as one.\\\"\n",
    "review5: \\\"I really like the sweater, it is so soft and it\\'s not extremely thick, The only problem is it was very hard to unbutton. The buttons are really big and it was hard to get them through the button hole., other then that I really like the sweater.\\\"\n",
    "\n",
    "output: {\n",
    "  \\\"product_name\\\": \\\"Free Assembly Women\\'s Patch Pocket Cardigan Sweater, Midweight, Sizes XS-XXL\\\",\n",
    "  \\\"summary\\\": \\\"Customers are generally satisfied with the Free Assembly Women\\'s Patch Pocket Cardigan Sweater. They appreciate the loose fit, soft material, and gold buttons. However, some customers have noted that the sweater runs big and is difficult to unbutton. Overall, I would recommend this sweater to anyone looking for a stylish and comfortable cardigan.\\\",\n",
    "  \\\"class\\\": \\\"Positive\\\"\n",
    "}\n",
    "\n",
    "input: Product: \\\"Unisex Hoodie Sweatshirt, 2020 Bad Rating, Slim Fit, Long Sleeve Sweater - Royal Blue 2X-Large\\\"\n",
    "Product Description: \\\"we aim to provide you with cute, fun and trendy matching Hoodie that you can wear on special occasions or every day with your loved ones.The family and matching tees collections are diverse and strive to meet the needs of our customers from all ages and genders.\n",
    "\n",
    "The technology and machinery we use ensure high-quality prints that won’t crack or fade. We use soft and pre-shrunk tees, we know comfort is important to you.\n",
    "\n",
    "If something goes wrong (rarely, but it happens) you can count on us to make it right!\n",
    "\n",
    "We hope you enjoy our EPIC pieces of clothing and you wear them with LOVE.\n",
    "\n",
    "Custom Hoodie women Hoodie bonnie clyde husband wife matching s king queen boyfriend girlfriend stuff tee set mr mrs customized jersey clothes outfits Hoodie anniversary apparel customize Hoodie engaged personalized Hoodie clothing camisas para parejas mickey minnie jerseys pizza camisetas cute beauty beast\n",
    "\n",
    "Customized team sweaters are the excellent apparel idea for schools, colleges, universities and companies to prepare their own sportswear for baseball, basketball, football, softball, hockey and volleyball. Their silky material brings you great comfort and softness.\\\"\n",
    "\n",
    "Reviews:\n",
    "output: {\n",
    "  \\\"product_name\\\": \\\"Unisex Hoodie Sweatshirt, 2020 Bad Rating, Slim Fit, Long Sleeve Sweater - Royal Blue 2X-Large\\\",\n",
    "  \\\"summary\\\": \\\"There are no available reviews for this product.\\\",\n",
    "  \\\"class\\\": \\\"Neutral\\\"\n",
    "}\n",
    "\n",
    "input: Product: \\\"Restored Premium Vitamix 5300 Blender for Soups, Smoothies, Sauces, and Spreads 64 fl oz. (Refurbished)\\\"\n",
    "Product Description: \\\"The 5300 offers power and convenience, with a 2.2 HP motor and a low-profile, 64-ounce container that fits easily under most cabinets. All certiified reconditioned machines have been built and reconditioned by hand in the United States.64 fl oz.\\\"\n",
    "\n",
    "Reviews:\n",
    "output: {\n",
    "  \\\"product_name\\\": \\\"Restored Premium Vitamix 5300 Blender for Soups, Smoothies, Sauces, and Spreads 64 fl oz. (Refurbished)\\\",\n",
    "  \\\"summary\\\": \\\"There are no available reviews for this product\\\",\n",
    "  \\\"class\\\": \\\"Positive\\\"\n",
    "}\n",
    "\n",
    "input: Product: \\\"Restored Premium Vitamix 5300 Blender for Soups, Smoothies, Sauces, and Spreads 64 fl oz. (Refurbished)\\\"\n",
    "Product Description: \\\"The 5300 offers power and convenience, with a 2.2 HP motor and a low-profile, 64-ounce container that fits easily under most cabinets. All certiified reconditioned machines have been built and reconditioned by hand in the United States.64 fl oz.\\\"\n",
    "\n",
    "Reviews:\n",
    "output:\n",
    "\n",
    "\"\"\",\n",
    "    **parameters\n",
    ")\n",
    "print(f\"Response from Model: {response.text}\")"
   ]
  },
  {
   "cell_type": "markdown",
   "metadata": {
    "id": "zcpmZnwKJKCU",
    "tags": []
   },
   "source": [
    "## Evaluation\n",
    "You can evaluate the outputs from summarization tasks using [ROUGE](https://en.wikipedia.org/wiki/ROUGE_(metric)) as an evalulation framework. ROUGE (Recall-Oriented Understudy for Gisting Evaluation) are measures to automatically determine the quality of a summary by comparing it to other (ideal) summaries created by humans. The measures count the number of overlapping units such as n-gram, word sequences, and word pairs between the computer-generated summary to be evaluated and the ideal summaries created by humans."
   ]
  },
  {
   "cell_type": "markdown",
   "metadata": {
    "id": "1KKaYhzwJKCc"
   },
   "source": [
    "Now you can take the candidate and reference to evaluate the performance. In this case, ROUGE will give you:\n",
    "\n",
    "- `rouge-1`, which measures unigram overlap\n",
    "- `rouge-2`, which measures bigram overlap\n",
    "- `rouge-l`, which measures the longest common subsequence"
   ]
  },
  {
   "cell_type": "code",
   "execution_count": null,
   "metadata": {
    "id": "37m_fb-HJKCU"
   },
   "outputs": [
    {
     "data": {
      "text/plain": [
       "[{'rouge-1': {'r': 0.43137254901960786,\n",
       "   'p': 0.4583333333333333,\n",
       "   'f': 0.44444443944903583},\n",
       "  'rouge-2': {'r': 0.2, 'p': 0.22641509433962265, 'f': 0.2123893755501607},\n",
       "  'rouge-l': {'r': 0.4117647058823529, 'p': 0.4375, 'f': 0.42424241924701567}}]"
      ]
     },
     "execution_count": 10,
     "metadata": {},
     "output_type": "execute_result"
    }
   ],
   "source": [
    "from rouge import Rouge\n",
    "\n",
    "ROUGE = Rouge()\n",
    "ROUGE.get_scores(generate_from_web2, generate_from_web1)"
   ]
  },
  {
   "cell_type": "markdown",
   "metadata": {
    "id": "b44f9872e1ba"
   },
   "source": [
    "You will also need a human-generated summary that we will use to compare to the `candidate` generated by the model. We will call this `reference`. "
   ]
  },
  {
   "cell_type": "code",
   "execution_count": null,
   "metadata": {},
   "outputs": [],
   "source": []
  }
 ],
 "metadata": {
  "colab": {
   "name": "text_summarization.ipynb",
   "toc_visible": true
  },
  "environment": {
   "kernel": "conda-env-genai-py",
   "name": "workbench-notebooks.m110",
   "type": "gcloud",
   "uri": "gcr.io/deeplearning-platform-release/workbench-notebooks:m110"
  },
  "kernelspec": {
   "display_name": "Python 3 (genai)",
   "language": "python",
   "name": "conda-env-genai-py"
  },
  "language_info": {
   "codemirror_mode": {
    "name": "ipython",
    "version": 3
   },
   "file_extension": ".py",
   "mimetype": "text/x-python",
   "name": "python",
   "nbconvert_exporter": "python",
   "pygments_lexer": "ipython3",
   "version": "3.10.12"
  }
 },
 "nbformat": 4,
 "nbformat_minor": 4
}
