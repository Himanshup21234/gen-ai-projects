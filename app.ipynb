{
 "cells": [
  {
   "cell_type": "markdown",
   "id": "9f52c1d0-4755-44af-be12-e102c2c02425",
   "metadata": {
    "id": "JAPoU8Sm5E6e"
   },
   "source": [
    "# Text Summarization of User Reviews with Generative Models on Vertex AI\n",
    "\n",
    "__Notebook Holder__ : Himanshu Pant and Ishan Bhatt"
   ]
  },
  {
   "cell_type": "markdown",
   "id": "cfbbf0e8-e328-4fa7-b3b6-53d45373b2b5",
   "metadata": {
    "id": "tvgnzT1CKxrO"
   },
   "source": [
    "## Overview\n",
    "Text summarization produces a concise and fluent summary of a longer text document. There are two main text summarization types: extractive and abstractive. Extractive summarization involves selecting critical sentences from the original text and combining them to form a summary. Abstractive summarization involves generating new sentences representing the original text's main points. In this notebook, you go through a few examples of how large language models can help with generating summaries based on text.\n",
    "\n",
    "Learn more about text summarization in the [official documentation](https://cloud.google.com/vertex-ai/docs/generative-ai/text/summarization-prompts)."
   ]
  },
  {
   "cell_type": "markdown",
   "id": "110ae334-3319-4969-b2c9-4d372087c045",
   "metadata": {
    "id": "d975e698c9a4"
   },
   "source": [
    "### Objective\n",
    "To summarise user reviews and give prometheus bot suggestions to buy a product or not."
   ]
  },
  {
   "cell_type": "markdown",
   "id": "8fd44a91-9429-48f6-b76e-527905bafbef",
   "metadata": {
    "id": "bs9TZo0GJKCR"
   },
   "source": [
    "## Getting Started"
   ]
  },
  {
   "cell_type": "markdown",
   "id": "1b580b6e-c5a7-4395-b842-6b7c55e9014a",
   "metadata": {
    "id": "960505627ddf"
   },
   "source": [
    "### Import libraries\n",
    "\n",
    "Let's start by importing the libraries that we will need for this tutorial"
   ]
  },
  {
   "cell_type": "code",
   "execution_count": null,
   "id": "3ba7c312-5163-4b9f-9240-5c729b6d7077",
   "metadata": {},
   "outputs": [
    {
     "name": "stdout",
     "output_type": "stream",
     "text": [
      "Defaulting to user installation because normal site-packages is not writeable\n",
      "Requirement already satisfied: gradio==3.41.0 in /home/jupyter/.local/lib/python3.10/site-packages (3.41.0)\n",
      "Requirement already satisfied: aiofiles<24.0,>=22.0 in /home/jupyter/.local/lib/python3.10/site-packages (from gradio==3.41.0) (23.2.1)\n",
      "Requirement already satisfied: altair<6.0,>=4.2.0 in /home/jupyter/.local/lib/python3.10/site-packages (from gradio==3.41.0) (5.0.1)\n",
      "Requirement already satisfied: fastapi in /opt/conda/envs/genai/lib/python3.10/site-packages (from gradio==3.41.0) (0.101.1)\n",
      "Requirement already satisfied: ffmpy in /home/jupyter/.local/lib/python3.10/site-packages (from gradio==3.41.0) (0.3.1)\n",
      "Requirement already satisfied: gradio-client==0.5.0 in /home/jupyter/.local/lib/python3.10/site-packages (from gradio==3.41.0) (0.5.0)\n",
      "Requirement already satisfied: httpx in /opt/conda/envs/genai/lib/python3.10/site-packages (from gradio==3.41.0) (0.23.3)\n",
      "Requirement already satisfied: huggingface-hub>=0.14.0 in /opt/conda/envs/genai/lib/python3.10/site-packages (from gradio==3.41.0) (0.16.4)\n",
      "Requirement already satisfied: importlib-resources<7.0,>=1.3 in /home/jupyter/.local/lib/python3.10/site-packages (from gradio==3.41.0) (6.0.1)\n",
      "Requirement already satisfied: jinja2<4.0 in /home/jupyter/.local/lib/python3.10/site-packages (from gradio==3.41.0) (3.1.2)\n",
      "Requirement already satisfied: markupsafe~=2.0 in /opt/conda/envs/genai/lib/python3.10/site-packages (from gradio==3.41.0) (2.1.3)\n",
      "Requirement already satisfied: matplotlib~=3.0 in /opt/conda/envs/genai/lib/python3.10/site-packages (from gradio==3.41.0) (3.7.2)\n",
      "Requirement already satisfied: numpy~=1.0 in /opt/conda/envs/genai/lib/python3.10/site-packages (from gradio==3.41.0) (1.23.5)\n",
      "Requirement already satisfied: orjson~=3.0 in /home/jupyter/.local/lib/python3.10/site-packages (from gradio==3.41.0) (3.9.5)\n",
      "Requirement already satisfied: packaging in /opt/conda/envs/genai/lib/python3.10/site-packages (from gradio==3.41.0) (23.1)\n",
      "Requirement already satisfied: pandas<3.0,>=1.0 in /opt/conda/envs/genai/lib/python3.10/site-packages (from gradio==3.41.0) (1.5.3)\n",
      "Requirement already satisfied: pillow<11.0,>=8.0 in /home/jupyter/.local/lib/python3.10/site-packages (from gradio==3.41.0) (9.5.0)\n",
      "Requirement already satisfied: pydantic!=1.8,!=1.8.1,!=2.0.0,!=2.0.1,<3.0.0,>=1.7.4 in /opt/conda/envs/genai/lib/python3.10/site-packages (from gradio==3.41.0) (1.10.8)\n",
      "Requirement already satisfied: pydub in /home/jupyter/.local/lib/python3.10/site-packages (from gradio==3.41.0) (0.25.1)\n",
      "Requirement already satisfied: python-multipart in /home/jupyter/.local/lib/python3.10/site-packages (from gradio==3.41.0) (0.0.6)\n",
      "Requirement already satisfied: pyyaml<7.0,>=5.0 in /opt/conda/envs/genai/lib/python3.10/site-packages (from gradio==3.41.0) (6.0.1)\n",
      "Requirement already satisfied: requests~=2.0 in /opt/conda/envs/genai/lib/python3.10/site-packages (from gradio==3.41.0) (2.31.0)\n",
      "Requirement already satisfied: semantic-version~=2.0 in /home/jupyter/.local/lib/python3.10/site-packages (from gradio==3.41.0) (2.10.0)\n",
      "Requirement already satisfied: typing-extensions~=4.0 in /opt/conda/envs/genai/lib/python3.10/site-packages (from gradio==3.41.0) (4.6.0)\n",
      "Requirement already satisfied: uvicorn>=0.14.0 in /opt/conda/envs/genai/lib/python3.10/site-packages (from gradio==3.41.0) (0.23.2)\n",
      "Requirement already satisfied: websockets<12.0,>=10.0 in /opt/conda/envs/genai/lib/python3.10/site-packages (from gradio==3.41.0) (11.0.3)\n",
      "Requirement already satisfied: fsspec in /opt/conda/envs/genai/lib/python3.10/site-packages (from gradio-client==0.5.0->gradio==3.41.0) (2023.6.0)\n",
      "Requirement already satisfied: jsonschema>=3.0 in /home/jupyter/.local/lib/python3.10/site-packages (from altair<6.0,>=4.2.0->gradio==3.41.0) (4.19.0)\n",
      "Requirement already satisfied: toolz in /home/jupyter/.local/lib/python3.10/site-packages (from altair<6.0,>=4.2.0->gradio==3.41.0) (0.12.0)\n",
      "Requirement already satisfied: filelock in /opt/conda/envs/genai/lib/python3.10/site-packages (from huggingface-hub>=0.14.0->gradio==3.41.0) (3.12.2)\n",
      "Requirement already satisfied: tqdm>=4.42.1 in /opt/conda/envs/genai/lib/python3.10/site-packages (from huggingface-hub>=0.14.0->gradio==3.41.0) (4.66.1)\n",
      "Requirement already satisfied: contourpy>=1.0.1 in /opt/conda/envs/genai/lib/python3.10/site-packages (from matplotlib~=3.0->gradio==3.41.0) (1.1.0)\n",
      "Requirement already satisfied: cycler>=0.10 in /opt/conda/envs/genai/lib/python3.10/site-packages (from matplotlib~=3.0->gradio==3.41.0) (0.11.0)\n",
      "Requirement already satisfied: fonttools>=4.22.0 in /opt/conda/envs/genai/lib/python3.10/site-packages (from matplotlib~=3.0->gradio==3.41.0) (4.42.1)\n",
      "Requirement already satisfied: kiwisolver>=1.0.1 in /opt/conda/envs/genai/lib/python3.10/site-packages (from matplotlib~=3.0->gradio==3.41.0) (1.4.4)\n",
      "Requirement already satisfied: pyparsing<3.1,>=2.3.1 in /opt/conda/envs/genai/lib/python3.10/site-packages (from matplotlib~=3.0->gradio==3.41.0) (3.0.9)\n",
      "Requirement already satisfied: python-dateutil>=2.7 in /opt/conda/envs/genai/lib/python3.10/site-packages (from matplotlib~=3.0->gradio==3.41.0) (2.8.2)\n",
      "Requirement already satisfied: pytz>=2020.1 in /opt/conda/envs/genai/lib/python3.10/site-packages (from pandas<3.0,>=1.0->gradio==3.41.0) (2023.3)\n",
      "Requirement already satisfied: charset-normalizer<4,>=2 in /opt/conda/envs/genai/lib/python3.10/site-packages (from requests~=2.0->gradio==3.41.0) (3.2.0)\n",
      "Requirement already satisfied: idna<4,>=2.5 in /opt/conda/envs/genai/lib/python3.10/site-packages (from requests~=2.0->gradio==3.41.0) (3.4)\n",
      "Requirement already satisfied: urllib3<3,>=1.21.1 in /opt/conda/envs/genai/lib/python3.10/site-packages (from requests~=2.0->gradio==3.41.0) (1.26.16)\n",
      "Requirement already satisfied: certifi>=2017.4.17 in /opt/conda/envs/genai/lib/python3.10/site-packages (from requests~=2.0->gradio==3.41.0) (2023.7.22)\n",
      "Requirement already satisfied: click>=7.0 in /opt/conda/envs/genai/lib/python3.10/site-packages (from uvicorn>=0.14.0->gradio==3.41.0) (8.1.7)\n",
      "Requirement already satisfied: h11>=0.8 in /opt/conda/envs/genai/lib/python3.10/site-packages (from uvicorn>=0.14.0->gradio==3.41.0) (0.14.0)\n",
      "Requirement already satisfied: starlette<0.28.0,>=0.27.0 in /opt/conda/envs/genai/lib/python3.10/site-packages (from fastapi->gradio==3.41.0) (0.27.0)\n",
      "Requirement already satisfied: httpcore<0.17.0,>=0.15.0 in /opt/conda/envs/genai/lib/python3.10/site-packages (from httpx->gradio==3.41.0) (0.16.3)\n",
      "Requirement already satisfied: rfc3986[idna2008]<2,>=1.3 in /opt/conda/envs/genai/lib/python3.10/site-packages (from httpx->gradio==3.41.0) (1.5.0)\n",
      "Requirement already satisfied: sniffio in /opt/conda/envs/genai/lib/python3.10/site-packages (from httpx->gradio==3.41.0) (1.3.0)\n",
      "Requirement already satisfied: anyio<5.0,>=3.0 in /opt/conda/envs/genai/lib/python3.10/site-packages (from httpcore<0.17.0,>=0.15.0->httpx->gradio==3.41.0) (3.7.1)\n",
      "Requirement already satisfied: attrs>=22.2.0 in /opt/conda/envs/genai/lib/python3.10/site-packages (from jsonschema>=3.0->altair<6.0,>=4.2.0->gradio==3.41.0) (23.1.0)\n",
      "Requirement already satisfied: jsonschema-specifications>=2023.03.6 in /home/jupyter/.local/lib/python3.10/site-packages (from jsonschema>=3.0->altair<6.0,>=4.2.0->gradio==3.41.0) (2023.7.1)\n",
      "Requirement already satisfied: referencing>=0.28.4 in /home/jupyter/.local/lib/python3.10/site-packages (from jsonschema>=3.0->altair<6.0,>=4.2.0->gradio==3.41.0) (0.30.2)\n",
      "Requirement already satisfied: rpds-py>=0.7.1 in /home/jupyter/.local/lib/python3.10/site-packages (from jsonschema>=3.0->altair<6.0,>=4.2.0->gradio==3.41.0) (0.9.2)\n",
      "Requirement already satisfied: six>=1.5 in /opt/conda/envs/genai/lib/python3.10/site-packages (from python-dateutil>=2.7->matplotlib~=3.0->gradio==3.41.0) (1.12.0)\n",
      "Requirement already satisfied: exceptiongroup in /opt/conda/envs/genai/lib/python3.10/site-packages (from anyio<5.0,>=3.0->httpcore<0.17.0,>=0.15.0->httpx->gradio==3.41.0) (1.1.3)\n",
      "\u001b[33mDEPRECATION: textract 1.6.5 has a non-standard dependency specifier extract-msg<=0.29.*. pip 23.3 will enforce this behaviour change. A possible replacement is to upgrade to a newer version of textract or contact the author to suggest that they release a version with a conforming dependency specifiers. Discussion can be found at https://github.com/pypa/pip/issues/12063\u001b[0m\u001b[33m\n",
      "\u001b[0m"
     ]
    }
   ],
   "source": [
    "!pip install gradio==3.41.0"
   ]
  },
  {
   "cell_type": "code",
   "execution_count": 33,
   "id": "6b482b13-dd2b-4784-9695-55c9b783e5e7",
   "metadata": {
    "id": "PyQmSRbKA8r-"
   },
   "outputs": [],
   "source": [
    "import gradio as gr\n",
    "import json\n",
    "import tqdm as notebook_tqdm\n",
    "from IPython.display import Markdown\n",
    "import vertexai\n",
    "from vertexai.language_models import TextGenerationModel\n",
    "vertexai.init(project=\"wmt-7fbls2a91f025anb93e025b02g\", location=\"us-central1\")"
   ]
  },
  {
   "cell_type": "markdown",
   "id": "fd0e84b7-b81e-44a2-a9ea-84dc228bf954",
   "metadata": {
    "id": "UP76a2la7O-a"
   },
   "source": [
    "### Import models\n",
    "\n",
    "Here we load the pre-trained text generation model called `text-bison@001`."
   ]
  },
  {
   "cell_type": "code",
   "execution_count": 34,
   "id": "1748bfba-6cb3-4444-be1d-94839ff3b501",
   "metadata": {
    "id": "7isig7e07O-a"
   },
   "outputs": [],
   "source": [
    "generation_model = TextGenerationModel.from_pretrained(\"text-bison@001\")"
   ]
  },
  {
   "cell_type": "markdown",
   "id": "63d25869-7961-41ed-beda-bd1cf89cb95c",
   "metadata": {},
   "source": [
    "## List of themes available in gradio"
   ]
  },
  {
   "cell_type": "code",
   "execution_count": 35,
   "id": "fb922fc6-2c6a-4851-ad9a-e6c88cf24c24",
   "metadata": {},
   "outputs": [
    {
     "data": {
      "text/markdown": [
       "\n",
       "* gr.themes.Base()\n",
       "* gr.themes.Default()\n",
       "* gr.themes.Glass()\n",
       "* gr.themes.Monochrome()\n",
       "* gr.themes.Soft()\n"
      ],
      "text/plain": [
       "<IPython.core.display.Markdown object>"
      ]
     },
     "execution_count": 35,
     "metadata": {},
     "output_type": "execute_result"
    }
   ],
   "source": [
    "Markdown(\n",
    "\"\"\"\n",
    "* gr.themes.Base()\n",
    "* gr.themes.Default()\n",
    "* gr.themes.Glass()\n",
    "* gr.themes.Monochrome()\n",
    "* gr.themes.Soft()\n",
    "\"\"\")"
   ]
  },
  {
   "cell_type": "markdown",
   "id": "3ab564c2-3107-4a7b-ba17-6130c134830b",
   "metadata": {},
   "source": [
    "### User Review Summary:"
   ]
  },
  {
   "cell_type": "code",
   "execution_count": 110,
   "id": "e67ebc6c-2f2f-451b-a244-81e420ee60fd",
   "metadata": {},
   "outputs": [],
   "source": [
    "def generate_summary_few_shots(input_url):\n",
    "    generate_from_web = {}\n",
    "    emoji = \"🟡\"\n",
    "    parameters = {\n",
    "    \"max_output_tokens\": 1024,\n",
    "    \"temperature\": 0.2,\n",
    "    \"top_p\": 0.95,\n",
    "    \"top_k\": 40\n",
    "    }\n",
    "    response = generation_model.predict(\n",
    "        \"\"\"You are an Review Summarisation Tool, which provides concise summary of users reviews of products purchased from Walmart.com. Analyzing Customer Sentiment and Reviews for Walmart.com.\n",
    "\n",
    "Focus on extracting key sentiments, prevalent themes and overall satisfaction levels conveyed in the reviews as well as sentiments related to specific categories: price, shipping, delivery, quality, customer service, and features/functionality. Provide both positive and negative feedback where applicable, capturing the general consensus of customer\\'s experience.\n",
    "\n",
    "The coherent summary output should consider below properties wherever applicable:\n",
    "1. Exclude offensive words from the output.\n",
    "2. Include overall Sentiment based on these reviews\n",
    "3. Include Sentiment towards the price point\n",
    "4. Include Sentiment towards shipping efficiency\n",
    "5. Include Sentiment towards delivery experience\n",
    "6. Include Sentiment towards product quality\n",
    "7. Include Sentiment towards customer service experience\n",
    "8. Include Sentiment towards product features and functionality\n",
    "9. Include recommendations to buy the product or not.\n",
    "\n",
    "Also, classify the coherent summary from the following 3 categories:\n",
    "    1. Positive\n",
    "    2. Negative\n",
    "    3. Neutral\n",
    "\n",
    "Respond only in consistent json format with summary under \\\"summary\\\" key and class under the \\\"class\\\" key.\n",
    "\n",
    "input: Craft a coherent summary in maximum of 100 words of user reviews for Walmart.com that can be parsed from: https://www.walmart.com/ip/Free-Assembly-Women-s-Patch-Pocket-Cardigan-Sweater-Midweight-Sizes-XS-XXL/2921447485?athbdg=L1600. \n",
    "output: {\n",
    "  \\\"summary\\\": \\\"The Free Assembly Women\\'s Patch Pocket Cardigan Sweater is a midweight cardigan sweater that is available in sizes XS-XXL. The reviews for this product are generally positive, with customers praising the sweater\\'s soft fabric, comfortable fit, and stylish design. However, some customers have complained that the sweater is too thin and that it does not keep them warm enough. Overall, the Free Assembly Women\\'s Patch Pocket Cardigan Sweater is a good option for women who are looking for a stylish and comfortable cardigan sweater.\\\",\n",
    "  \\\"class\\\": \\\"Positive\\\"\n",
    "}\n",
    "\n",
    "input: Craft a coherent summary in maximum of 100 words of user reviews for Walmart.com that can be parsed from: https://www.walmart.com/ip/GoPro-HERO9-Black-Waterproof-Action-Camera-Front-LCD-Touch-Rear-Screens-5K-Ultra-HD-Video-20MP-Photos-1080p-Live-Streaming-Webcam-Stabilization/412520823?athcpid=412520823&athpgid=AthenaContentPage_133277&athcgid=null&athznid=ItemCarousel_928590cc-7b51-4ed7-97f9-ccf0b5969f7d_items&athieid=v0&athstid=CS020&athguid=0nJ2IAwDm7RdgGyZ6OEmKBF62aH0cpKNcp73&athancid=null&athena=true&athbdg=L1600\n",
    "output: {\n",
    "  \\\"summary\\\": \\\"The GoPro HERO9 Black is a waterproof action camera that is capable of recording 5K video and taking 20MP photos. The camera has a front-facing LCD screen and a rear-facing touch screen, and it can be used for live streaming and as a webcam. The reviews for this product are generally positive, with customers praising the camera\\'s image quality, ease of use, and durability. However, some customers have complained about the camera\\'s battery life and the price. Overall, the GoPro HERO9 Black is a good option for action camera enthusiasts who are looking for a high-quality camera with a variety of features.\\\",\n",
    "  \\\"class\\\": \\\"Positive\\\"\n",
    "}\n",
    "\"\"\" +\n",
    "\"\"\"\n",
    "input: Craft a coherent summary in maximum of 100 words of user reviews for Walmart.com that can be parsed from: \\\"{}\\\"\n",
    "\n",
    "output:\n",
    "\"\"\".format(input_url),\n",
    "    **parameters)\n",
    "    try:\n",
    "        generate_from_web = json.loads(response.text)\n",
    "        if generate_from_web['class'].lower() == 'positive':\n",
    "            emoji = \"🟢\"\n",
    "        elif generate_from_web['class'].lower() == 'negative':\n",
    "            emoji = \"🔴\"\n",
    "        else:\n",
    "            emoji = \"🟡\"\n",
    "            \n",
    "    except Exception as ex:\n",
    "        generate_from_web['summary'] = \"Not Much Reviews Available for the conclusion\"\n",
    "        print(\"Exception:\",ex)\n",
    "    # Markdown(generate_from_web)\n",
    "    return generate_from_web['summary'], emoji"
   ]
  },
  {
   "cell_type": "code",
   "execution_count": 111,
   "id": "8fe8171f-4b90-4007-96e2-120b22df15ba",
   "metadata": {},
   "outputs": [],
   "source": [
    "def generate_summary(input_url):\n",
    "    generate_from_web = {}\n",
    "    emoji = \"🟡\"\n",
    "    parameters = {\n",
    "    \"max_output_tokens\": 1024,\n",
    "    \"temperature\": 0.2,\n",
    "    \"top_p\": 0.95,\n",
    "    \"top_k\": 40\n",
    "    }\n",
    "    response = generation_model.predict(\n",
    "        f\"\"\"You are an Review Summarisation Tool, which provides concise summary of users reviews of products purchased from Walmart.com. Analyzing Customer Sentiment and Reviews for Walmart.com.\n",
    "\n",
    "Craft a coherent summary in maximum of 100 words of user reviews for Walmart.com that can be parsed from: \\\"{input_url}\\\"\n",
    "\n",
    "Focus on extracting key sentiments, prevalent themes and overall satisfaction levels conveyed in the reviews as well as sentiments related to specific categories: price, shipping, delivery, quality, customer service, and features/functionality. Provide both positive and negative feedback where applicable, capturing the general consensus of customer\\'s experience.\n",
    "\n",
    "The coherent summary output should consider below properties wherever applicable:\n",
    "1. Exclude offensive words from the output.\n",
    "2. Include overall Sentiment based on these reviews\n",
    "3. Include Sentiment towards the price point\n",
    "4. Include Sentiment towards shipping efficiency\n",
    "5. Include Sentiment towards delivery experience\n",
    "6. Include Sentiment towards product quality\n",
    "7. Include Sentiment towards customer service experience\n",
    "8. Include Sentiment towards product features and functionality\n",
    "9. Include recommendations to buy the product or not.\n",
    "\n",
    "Also, classify the coherent summary from the following 3 categories:\n",
    "    1. Positive\n",
    "    2. Negative\n",
    "    3. Neutral\n",
    "\n",
    "Respond only in consistent json format with summary under \\\"summary\\\" key and class under the \\\"class\\\" key.\"\"\",\n",
    "    **parameters)\n",
    "    try:\n",
    "        generate_from_web = json.loads(response.text)\n",
    "        if generate_from_web['class'].lower() == 'positive':\n",
    "            emoji = \"🟢\"\n",
    "        elif generate_from_web['class'].lower() == 'negative':\n",
    "            emoji = \"🔴\"\n",
    "        else:\n",
    "            emoji = \"🟡\"\n",
    "            \n",
    "    except Exception as ex:\n",
    "        generate_from_web['summary'] = \"Not Much Reviews Available for the conclusion\"\n",
    "        print(\"Exception:\",ex)\n",
    "    # Markdown(generate_from_web)\n",
    "    return generate_from_web['summary'], emoji"
   ]
  },
  {
   "cell_type": "markdown",
   "id": "ceb9e6e4-2f5e-47d1-841a-03698417d086",
   "metadata": {},
   "source": [
    "### Fron-End App"
   ]
  },
  {
   "cell_type": "code",
   "execution_count": null,
   "id": "ab82253a-b8d7-4687-a5e4-61cb498216b0",
   "metadata": {},
   "outputs": [
    {
     "name": "stdout",
     "output_type": "stream",
     "text": [
      "Running on local URL:  http://0.0.0.0:7862\n"
     ]
    }
   ],
   "source": [
    "sample_url = [\n",
    "    [\"https://www.walmart.com/ip/Restored-Apple-AirPods-Pro-2-White-In-Ear-Headphones-MQD83AM-A-Refurbished/2379347975?athbdg=L1600\"],\n",
    "    [\"https://www.walmart.com/ip/Apple-EarPods-with-Lightning-Connector/54594375?athbdg=L1102\"],\n",
    "    [\"https://www.walmart.com/ip/Microsoft-Xbox-Wireless-Controller-Pulse-Red/213327461?athbdg=L1200\"],\n",
    "    [\"https://www.walmart.com/ip/Xbox-Starfield-Collectors-Edition-Wireless-Headset-Bluetooth-Connectivity-For-Series-X-S-XBX1-Windows-10-Feat-Auto-mute-voice-isolation-Comfortable-i/1664794666?athbdg=L1600\"]\n",
    "]\n",
    "css = \"\"\"\n",
    "#rowStyle {background-color: #000000}\n",
    ".gradio-container {background-color: #000000}\n",
    ".feedback textarea {font-size: 24px !important}\n",
    "\"\"\"\n",
    "with gr.Blocks(title=\"Prometheus\", theme=gr.themes.Default(primary_hue=\"red\", \n",
    "                                                           secondary_hue=\"red\",\n",
    "                                                           text_size=\"md\",\n",
    "                                                           spacing_size=\"md\",\n",
    "                                                           radius_size='md'\n",
    "                                                           ),\n",
    "               css=css\n",
    "              ) as demo:\n",
    "    with gr.Row(equal_height=True):\n",
    "        gr.Markdown(\"\"\"<h1 style=\"text-align: center;color:white\" > 🕵 Prometheus</h1>\"\"\")\n",
    "\n",
    "    with gr.Row(equal_height=True):     \n",
    "        gr.Markdown(\"\"\"<h2 style=\"text-align: center;color:white\" >Generate Review Sumary using Vertex AI </h1>\"\"\")\n",
    "    \n",
    "    with gr.Row(equal_height=True):\n",
    "        gr.Markdown(\"\"\"<h3 style=\"text-align: center;color:white\" >Tool Version: 1.0.0 </h3>\"\"\")\n",
    "        \n",
    "    with gr.Tab(\"Generate User Summary\"):\n",
    "        with gr.Row():\n",
    "            review_input = gr.Textbox(lines=1,label=\"Product URL - User Reviews\", placeholder=\"Enter review of the users\",elem_id='rowStyle')\n",
    "        \n",
    "        generate_button = gr.Button(\"Generate Prometheus Summary/Recommendation!!\",size=\"lg\")\n",
    "        \n",
    "        with gr.Row():\n",
    "            emoji_output = gr.Textbox(scale=1,label=\"Prometheus Purchase Indicator\", placeholder=\"🟡\",elem_id='rowStyle',text_align=\"center\")\n",
    "            review_output = gr.Textbox(scale=8,lines=5,label=\" 🕵 Promtheus Summary\" , placeholder = \"Generate to see - What Prometheus has to say??\",elem_id='rowStyle')\n",
    "        \n",
    "    # gr.Examples(generate_summary,inputs=[review_input],outputs=[review_output],examples=sample_url,cache_examples=True)\n",
    "    gr.Markdown(\"\"\"<h3 style=\"text-align: center;color:white\">Sample URLs</h3>\"\"\")\n",
    "    gr.Examples(sample_url,[review_input], elem_id='rowStyle')\n",
    "    generate_button.click(generate_summary,inputs=[review_input],outputs=[review_output,emoji_output])\n",
    "\n",
    "## Launch app\n",
    "demo.queue(concurrency_count=3).launch(server_name=\"0.0.0.0\",share=True) # auth=(\"admin\",\"prometheus@123\")"
   ]
  },
  {
   "cell_type": "code",
   "execution_count": 85,
   "id": "04c68eca-bec4-4646-80ba-d160a48b7b2e",
   "metadata": {},
   "outputs": [
    {
     "name": "stdout",
     "output_type": "stream",
     "text": [
      "Closing server running on port: 7862\n"
     ]
    }
   ],
   "source": [
    "demo.close()"
   ]
  },
  {
   "cell_type": "code",
   "execution_count": null,
   "id": "00b3e824-df9f-48e9-94f7-e1b62c2302a6",
   "metadata": {},
   "outputs": [],
   "source": []
  }
 ],
 "metadata": {
  "environment": {
   "kernel": "conda-env-genai-py",
   "name": "workbench-notebooks.m110",
   "type": "gcloud",
   "uri": "gcr.io/deeplearning-platform-release/workbench-notebooks:m110"
  },
  "kernelspec": {
   "display_name": "Python 3 (genai)",
   "language": "python",
   "name": "conda-env-genai-py"
  },
  "language_info": {
   "codemirror_mode": {
    "name": "ipython",
    "version": 3
   },
   "file_extension": ".py",
   "mimetype": "text/x-python",
   "name": "python",
   "nbconvert_exporter": "python",
   "pygments_lexer": "ipython3",
   "version": "3.10.12"
  }
 },
 "nbformat": 4,
 "nbformat_minor": 5
}
